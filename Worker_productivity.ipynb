{
  "nbformat": 4,
  "nbformat_minor": 0,
  "metadata": {
    "colab": {
      "provenance": [],
      "authorship_tag": "ABX9TyMKG6QzQNCJOpOSR28MY/lV",
      "include_colab_link": true
    },
    "kernelspec": {
      "name": "python3",
      "display_name": "Python 3"
    },
    "language_info": {
      "name": "python"
    }
  },
  "cells": [
    {
      "cell_type": "markdown",
      "metadata": {
        "id": "view-in-github",
        "colab_type": "text"
      },
      "source": [
        "<a href=\"https://colab.research.google.com/github/Gloria-L19/Possible-data-sets/blob/main/Worker_productivity.ipynb\" target=\"_parent\"><img src=\"https://colab.research.google.com/assets/colab-badge.svg\" alt=\"Open In Colab\"/></a>"
      ]
    },
    {
      "cell_type": "code",
      "execution_count": null,
      "metadata": {
        "colab": {
          "base_uri": "https://localhost:8080/"
        },
        "id": "GkwX-alrzVal",
        "outputId": "fa60af99-603a-49f2-b64e-460e9d222a08"
      },
      "outputs": [
        {
          "output_type": "stream",
          "name": "stdout",
          "text": [
            "Mounted at /content/drive\n"
          ]
        }
      ],
      "source": [
        "from google.colab import drive\n",
        "drive.mount('/content/drive')"
      ]
    },
    {
      "cell_type": "code",
      "source": [
        "# importing useful libraries\n",
        "import pandas as pd\n",
        "import numpy as np\n",
        "import seaborn as sns\n",
        "import matplotlib.pyplot as plt"
      ],
      "metadata": {
        "id": "GHJKBVVb07D3"
      },
      "execution_count": null,
      "outputs": []
    },
    {
      "cell_type": "code",
      "source": [
        "#loading data\n",
        "filename='/content/garments_worker_productivity.csv'\n",
        "df=pd.read_csv(filename)\n",
        "df.head()"
      ],
      "metadata": {
        "id": "FpHKlFjx3rsw",
        "colab": {
          "base_uri": "https://localhost:8080/",
          "height": 270
        },
        "outputId": "871c2865-dbac-4997-eceb-401f956017fa"
      },
      "execution_count": null,
      "outputs": [
        {
          "output_type": "execute_result",
          "data": {
            "text/plain": [
              "       date   quarter  department       day  team  targeted_productivity  \\\n",
              "0  1/1/2015  Quarter1      sweing  Thursday     8                   0.80   \n",
              "1  1/1/2015  Quarter1  finishing   Thursday     1                   0.75   \n",
              "2  1/1/2015  Quarter1      sweing  Thursday    11                   0.80   \n",
              "3  1/1/2015  Quarter1      sweing  Thursday    12                   0.80   \n",
              "4  1/1/2015  Quarter1      sweing  Thursday     6                   0.80   \n",
              "\n",
              "     smv     wip  over_time  incentive  idle_time  idle_men  \\\n",
              "0  26.16  1108.0       7080         98        0.0         0   \n",
              "1   3.94     NaN        960          0        0.0         0   \n",
              "2  11.41   968.0       3660         50        0.0         0   \n",
              "3  11.41   968.0       3660         50        0.0         0   \n",
              "4  25.90  1170.0       1920         50        0.0         0   \n",
              "\n",
              "   no_of_style_change  no_of_workers  actual_productivity  \n",
              "0                   0           59.0             0.940725  \n",
              "1                   0            8.0             0.886500  \n",
              "2                   0           30.5             0.800570  \n",
              "3                   0           30.5             0.800570  \n",
              "4                   0           56.0             0.800382  "
            ],
            "text/html": [
              "\n",
              "  <div id=\"df-7924fecd-f222-4de6-a0dc-47848fdab80e\">\n",
              "    <div class=\"colab-df-container\">\n",
              "      <div>\n",
              "<style scoped>\n",
              "    .dataframe tbody tr th:only-of-type {\n",
              "        vertical-align: middle;\n",
              "    }\n",
              "\n",
              "    .dataframe tbody tr th {\n",
              "        vertical-align: top;\n",
              "    }\n",
              "\n",
              "    .dataframe thead th {\n",
              "        text-align: right;\n",
              "    }\n",
              "</style>\n",
              "<table border=\"1\" class=\"dataframe\">\n",
              "  <thead>\n",
              "    <tr style=\"text-align: right;\">\n",
              "      <th></th>\n",
              "      <th>date</th>\n",
              "      <th>quarter</th>\n",
              "      <th>department</th>\n",
              "      <th>day</th>\n",
              "      <th>team</th>\n",
              "      <th>targeted_productivity</th>\n",
              "      <th>smv</th>\n",
              "      <th>wip</th>\n",
              "      <th>over_time</th>\n",
              "      <th>incentive</th>\n",
              "      <th>idle_time</th>\n",
              "      <th>idle_men</th>\n",
              "      <th>no_of_style_change</th>\n",
              "      <th>no_of_workers</th>\n",
              "      <th>actual_productivity</th>\n",
              "    </tr>\n",
              "  </thead>\n",
              "  <tbody>\n",
              "    <tr>\n",
              "      <th>0</th>\n",
              "      <td>1/1/2015</td>\n",
              "      <td>Quarter1</td>\n",
              "      <td>sweing</td>\n",
              "      <td>Thursday</td>\n",
              "      <td>8</td>\n",
              "      <td>0.80</td>\n",
              "      <td>26.16</td>\n",
              "      <td>1108.0</td>\n",
              "      <td>7080</td>\n",
              "      <td>98</td>\n",
              "      <td>0.0</td>\n",
              "      <td>0</td>\n",
              "      <td>0</td>\n",
              "      <td>59.0</td>\n",
              "      <td>0.940725</td>\n",
              "    </tr>\n",
              "    <tr>\n",
              "      <th>1</th>\n",
              "      <td>1/1/2015</td>\n",
              "      <td>Quarter1</td>\n",
              "      <td>finishing</td>\n",
              "      <td>Thursday</td>\n",
              "      <td>1</td>\n",
              "      <td>0.75</td>\n",
              "      <td>3.94</td>\n",
              "      <td>NaN</td>\n",
              "      <td>960</td>\n",
              "      <td>0</td>\n",
              "      <td>0.0</td>\n",
              "      <td>0</td>\n",
              "      <td>0</td>\n",
              "      <td>8.0</td>\n",
              "      <td>0.886500</td>\n",
              "    </tr>\n",
              "    <tr>\n",
              "      <th>2</th>\n",
              "      <td>1/1/2015</td>\n",
              "      <td>Quarter1</td>\n",
              "      <td>sweing</td>\n",
              "      <td>Thursday</td>\n",
              "      <td>11</td>\n",
              "      <td>0.80</td>\n",
              "      <td>11.41</td>\n",
              "      <td>968.0</td>\n",
              "      <td>3660</td>\n",
              "      <td>50</td>\n",
              "      <td>0.0</td>\n",
              "      <td>0</td>\n",
              "      <td>0</td>\n",
              "      <td>30.5</td>\n",
              "      <td>0.800570</td>\n",
              "    </tr>\n",
              "    <tr>\n",
              "      <th>3</th>\n",
              "      <td>1/1/2015</td>\n",
              "      <td>Quarter1</td>\n",
              "      <td>sweing</td>\n",
              "      <td>Thursday</td>\n",
              "      <td>12</td>\n",
              "      <td>0.80</td>\n",
              "      <td>11.41</td>\n",
              "      <td>968.0</td>\n",
              "      <td>3660</td>\n",
              "      <td>50</td>\n",
              "      <td>0.0</td>\n",
              "      <td>0</td>\n",
              "      <td>0</td>\n",
              "      <td>30.5</td>\n",
              "      <td>0.800570</td>\n",
              "    </tr>\n",
              "    <tr>\n",
              "      <th>4</th>\n",
              "      <td>1/1/2015</td>\n",
              "      <td>Quarter1</td>\n",
              "      <td>sweing</td>\n",
              "      <td>Thursday</td>\n",
              "      <td>6</td>\n",
              "      <td>0.80</td>\n",
              "      <td>25.90</td>\n",
              "      <td>1170.0</td>\n",
              "      <td>1920</td>\n",
              "      <td>50</td>\n",
              "      <td>0.0</td>\n",
              "      <td>0</td>\n",
              "      <td>0</td>\n",
              "      <td>56.0</td>\n",
              "      <td>0.800382</td>\n",
              "    </tr>\n",
              "  </tbody>\n",
              "</table>\n",
              "</div>\n",
              "      <button class=\"colab-df-convert\" onclick=\"convertToInteractive('df-7924fecd-f222-4de6-a0dc-47848fdab80e')\"\n",
              "              title=\"Convert this dataframe to an interactive table.\"\n",
              "              style=\"display:none;\">\n",
              "        \n",
              "  <svg xmlns=\"http://www.w3.org/2000/svg\" height=\"24px\"viewBox=\"0 0 24 24\"\n",
              "       width=\"24px\">\n",
              "    <path d=\"M0 0h24v24H0V0z\" fill=\"none\"/>\n",
              "    <path d=\"M18.56 5.44l.94 2.06.94-2.06 2.06-.94-2.06-.94-.94-2.06-.94 2.06-2.06.94zm-11 1L8.5 8.5l.94-2.06 2.06-.94-2.06-.94L8.5 2.5l-.94 2.06-2.06.94zm10 10l.94 2.06.94-2.06 2.06-.94-2.06-.94-.94-2.06-.94 2.06-2.06.94z\"/><path d=\"M17.41 7.96l-1.37-1.37c-.4-.4-.92-.59-1.43-.59-.52 0-1.04.2-1.43.59L10.3 9.45l-7.72 7.72c-.78.78-.78 2.05 0 2.83L4 21.41c.39.39.9.59 1.41.59.51 0 1.02-.2 1.41-.59l7.78-7.78 2.81-2.81c.8-.78.8-2.07 0-2.86zM5.41 20L4 18.59l7.72-7.72 1.47 1.35L5.41 20z\"/>\n",
              "  </svg>\n",
              "      </button>\n",
              "      \n",
              "  <style>\n",
              "    .colab-df-container {\n",
              "      display:flex;\n",
              "      flex-wrap:wrap;\n",
              "      gap: 12px;\n",
              "    }\n",
              "\n",
              "    .colab-df-convert {\n",
              "      background-color: #E8F0FE;\n",
              "      border: none;\n",
              "      border-radius: 50%;\n",
              "      cursor: pointer;\n",
              "      display: none;\n",
              "      fill: #1967D2;\n",
              "      height: 32px;\n",
              "      padding: 0 0 0 0;\n",
              "      width: 32px;\n",
              "    }\n",
              "\n",
              "    .colab-df-convert:hover {\n",
              "      background-color: #E2EBFA;\n",
              "      box-shadow: 0px 1px 2px rgba(60, 64, 67, 0.3), 0px 1px 3px 1px rgba(60, 64, 67, 0.15);\n",
              "      fill: #174EA6;\n",
              "    }\n",
              "\n",
              "    [theme=dark] .colab-df-convert {\n",
              "      background-color: #3B4455;\n",
              "      fill: #D2E3FC;\n",
              "    }\n",
              "\n",
              "    [theme=dark] .colab-df-convert:hover {\n",
              "      background-color: #434B5C;\n",
              "      box-shadow: 0px 1px 3px 1px rgba(0, 0, 0, 0.15);\n",
              "      filter: drop-shadow(0px 1px 2px rgba(0, 0, 0, 0.3));\n",
              "      fill: #FFFFFF;\n",
              "    }\n",
              "  </style>\n",
              "\n",
              "      <script>\n",
              "        const buttonEl =\n",
              "          document.querySelector('#df-7924fecd-f222-4de6-a0dc-47848fdab80e button.colab-df-convert');\n",
              "        buttonEl.style.display =\n",
              "          google.colab.kernel.accessAllowed ? 'block' : 'none';\n",
              "\n",
              "        async function convertToInteractive(key) {\n",
              "          const element = document.querySelector('#df-7924fecd-f222-4de6-a0dc-47848fdab80e');\n",
              "          const dataTable =\n",
              "            await google.colab.kernel.invokeFunction('convertToInteractive',\n",
              "                                                     [key], {});\n",
              "          if (!dataTable) return;\n",
              "\n",
              "          const docLinkHtml = 'Like what you see? Visit the ' +\n",
              "            '<a target=\"_blank\" href=https://colab.research.google.com/notebooks/data_table.ipynb>data table notebook</a>'\n",
              "            + ' to learn more about interactive tables.';\n",
              "          element.innerHTML = '';\n",
              "          dataTable['output_type'] = 'display_data';\n",
              "          await google.colab.output.renderOutput(dataTable, element);\n",
              "          const docLink = document.createElement('div');\n",
              "          docLink.innerHTML = docLinkHtml;\n",
              "          element.appendChild(docLink);\n",
              "        }\n",
              "      </script>\n",
              "    </div>\n",
              "  </div>\n",
              "  "
            ]
          },
          "metadata": {},
          "execution_count": 3
        }
      ]
    },
    {
      "cell_type": "code",
      "source": [
        "# cleaning the data\n",
        "# starting by fing duplicates\n",
        "df.duplicated().sum()"
      ],
      "metadata": {
        "id": "qyJEvh9s41Zn",
        "colab": {
          "base_uri": "https://localhost:8080/"
        },
        "outputId": "fb780c23-5968-4f77-94f5-b99f028ebad3"
      },
      "execution_count": null,
      "outputs": [
        {
          "output_type": "execute_result",
          "data": {
            "text/plain": [
              "0"
            ]
          },
          "metadata": {},
          "execution_count": 5
        }
      ]
    },
    {
      "cell_type": "markdown",
      "source": [
        "No duplicates"
      ],
      "metadata": {
        "id": "DNoUswg77yx_"
      }
    },
    {
      "cell_type": "code",
      "source": [
        "# checking out the number of rows nd columns\n",
        "df.shape"
      ],
      "metadata": {
        "colab": {
          "base_uri": "https://localhost:8080/"
        },
        "id": "TlO2KOL17uBy",
        "outputId": "6247f062-a9cc-4458-be52-c048dbc6e374"
      },
      "execution_count": null,
      "outputs": [
        {
          "output_type": "execute_result",
          "data": {
            "text/plain": [
              "(1197, 15)"
            ]
          },
          "metadata": {},
          "execution_count": 7
        }
      ]
    },
    {
      "cell_type": "code",
      "source": [
        "# finding the data type and missing data\n",
        "df.info()"
      ],
      "metadata": {
        "colab": {
          "base_uri": "https://localhost:8080/"
        },
        "id": "UByiYkY78JmK",
        "outputId": "f6646184-1f77-4b74-fd8b-a6e5808bb19e"
      },
      "execution_count": null,
      "outputs": [
        {
          "output_type": "stream",
          "name": "stdout",
          "text": [
            "<class 'pandas.core.frame.DataFrame'>\n",
            "RangeIndex: 1197 entries, 0 to 1196\n",
            "Data columns (total 15 columns):\n",
            " #   Column                 Non-Null Count  Dtype  \n",
            "---  ------                 --------------  -----  \n",
            " 0   date                   1197 non-null   object \n",
            " 1   quarter                1197 non-null   object \n",
            " 2   department             1197 non-null   object \n",
            " 3   day                    1197 non-null   object \n",
            " 4   team                   1197 non-null   int64  \n",
            " 5   targeted_productivity  1197 non-null   float64\n",
            " 6   smv                    1197 non-null   float64\n",
            " 7   wip                    691 non-null    float64\n",
            " 8   over_time              1197 non-null   int64  \n",
            " 9   incentive              1197 non-null   int64  \n",
            " 10  idle_time              1197 non-null   float64\n",
            " 11  idle_men               1197 non-null   int64  \n",
            " 12  no_of_style_change     1197 non-null   int64  \n",
            " 13  no_of_workers          1197 non-null   float64\n",
            " 14  actual_productivity    1197 non-null   float64\n",
            "dtypes: float64(6), int64(5), object(4)\n",
            "memory usage: 140.4+ KB\n"
          ]
        }
      ]
    },
    {
      "cell_type": "markdown",
      "source": [
        "The wip column has missing data. The date column datatype will be changed later to datetime datatype\n",
        "\n"
      ],
      "metadata": {
        "id": "EBfwtBOI8ex6"
      }
    },
    {
      "cell_type": "code",
      "source": [
        "# coverting the date column to datetime object datatype\n",
        "df['date']=pd.to_datetime(df['date'])"
      ],
      "metadata": {
        "id": "-8OpS8068Y4s"
      },
      "execution_count": null,
      "outputs": []
    },
    {
      "cell_type": "code",
      "source": [
        "# Finding the unique data in the columns\n",
        "df.nunique()"
      ],
      "metadata": {
        "colab": {
          "base_uri": "https://localhost:8080/"
        },
        "id": "NwYz8vI--q82",
        "outputId": "b566e813-b061-4204-f5b4-b3ab2daa63fb"
      },
      "execution_count": null,
      "outputs": [
        {
          "output_type": "execute_result",
          "data": {
            "text/plain": [
              "date                      59\n",
              "quarter                    5\n",
              "department                 3\n",
              "day                        6\n",
              "team                      12\n",
              "targeted_productivity      9\n",
              "smv                       70\n",
              "wip                      548\n",
              "over_time                143\n",
              "incentive                 48\n",
              "idle_time                 12\n",
              "idle_men                  10\n",
              "no_of_style_change         3\n",
              "no_of_workers             61\n",
              "actual_productivity      879\n",
              "dtype: int64"
            ]
          },
          "metadata": {},
          "execution_count": 11
        }
      ]
    },
    {
      "cell_type": "markdown",
      "source": [
        "It does not indicate any inconsistencies in the data"
      ],
      "metadata": {
        "id": "mTbIEPm0ATq8"
      }
    },
    {
      "cell_type": "code",
      "source": [
        "# checking for inconsistenciesin the categorical values\n",
        "df['day'].value_counts()"
      ],
      "metadata": {
        "colab": {
          "base_uri": "https://localhost:8080/"
        },
        "id": "-neN7TEdAaPH",
        "outputId": "a83c02ef-967c-426a-aefa-121ef8f2c946"
      },
      "execution_count": null,
      "outputs": [
        {
          "output_type": "execute_result",
          "data": {
            "text/plain": [
              "Wednesday    208\n",
              "Sunday       203\n",
              "Tuesday      201\n",
              "Thursday     199\n",
              "Monday       199\n",
              "Saturday     187\n",
              "Name: day, dtype: int64"
            ]
          },
          "metadata": {},
          "execution_count": 12
        }
      ]
    },
    {
      "cell_type": "markdown",
      "source": [
        "No inconsistency"
      ],
      "metadata": {
        "id": "zY2drNHmAZmL"
      }
    },
    {
      "cell_type": "code",
      "source": [
        "# inconsistency in the quarter column\n",
        "df['quarter'].value_counts()"
      ],
      "metadata": {
        "colab": {
          "base_uri": "https://localhost:8080/"
        },
        "id": "oPbg1NM8BIIh",
        "outputId": "7c82fcb3-b5a4-450a-c8a0-622f4ec58f48"
      },
      "execution_count": null,
      "outputs": [
        {
          "output_type": "execute_result",
          "data": {
            "text/plain": [
              "Quarter1    360\n",
              "Quarter2    335\n",
              "Quarter4    248\n",
              "Quarter3    210\n",
              "Quarter5     44\n",
              "Name: quarter, dtype: int64"
            ]
          },
          "metadata": {},
          "execution_count": 13
        }
      ]
    },
    {
      "cell_type": "code",
      "source": [
        "# looking for inconsistency in the department column\n",
        "df['department'].value_counts()"
      ],
      "metadata": {
        "colab": {
          "base_uri": "https://localhost:8080/"
        },
        "id": "UX7FQm6OBXFr",
        "outputId": "983f255c-e2fd-4a47-edf5-a574cbd6127c"
      },
      "execution_count": null,
      "outputs": [
        {
          "output_type": "execute_result",
          "data": {
            "text/plain": [
              "sweing        691\n",
              "finishing     257\n",
              "finishing     249\n",
              "Name: department, dtype: int64"
            ]
          },
          "metadata": {},
          "execution_count": 14
        }
      ]
    },
    {
      "cell_type": "code",
      "source": [
        "# correting the inconsistency in the department column\n",
        "df['department'] = df['department'].str.strip()\n",
        "vc = df['department'].value_counts()\n",
        "vc"
      ],
      "metadata": {
        "colab": {
          "base_uri": "https://localhost:8080/"
        },
        "id": "ltnlmXJGGaKS",
        "outputId": "e2775352-f3cb-4eb8-985f-70f30f933ccc"
      },
      "execution_count": null,
      "outputs": [
        {
          "output_type": "execute_result",
          "data": {
            "text/plain": [
              "sweing       691\n",
              "finishing    506\n",
              "Name: department, dtype: int64"
            ]
          },
          "metadata": {},
          "execution_count": 32
        }
      ]
    },
    {
      "cell_type": "code",
      "source": [
        "# handling the missing data in wip column\n",
        "num_missing = df['wip'].isna().sum()\n",
        "\n",
        "total_rows = df.shape[0]\n",
        "\n",
        "percent_missing = num_missing / total_rows\n",
        "print(f'{percent_missing:.2f}% of the data in the wip column is missing')"
      ],
      "metadata": {
        "colab": {
          "base_uri": "https://localhost:8080/"
        },
        "id": "3mMzziCOHRY2",
        "outputId": "364db400-ee56-4436-97b2-6026ccd9d620"
      },
      "execution_count": null,
      "outputs": [
        {
          "output_type": "stream",
          "name": "stdout",
          "text": [
            "0.42% of the data in the wip column is missing\n"
          ]
        }
      ]
    },
    {
      "cell_type": "code",
      "source": [
        "# since wip column has 58% of its data, i will replace the missing data\n",
        "# i will use mean because the data is float datatype\n",
        "mean_wip=df['wip'].mean()\n",
        "df['wip'].fillna(mean_wip,inplace=True)\n",
        "df.isna().sum()"
      ],
      "metadata": {
        "colab": {
          "base_uri": "https://localhost:8080/"
        },
        "id": "82eDVbO5IkIx",
        "outputId": "0c53397f-75c2-46cc-c7a3-2ae94887d985"
      },
      "execution_count": null,
      "outputs": [
        {
          "output_type": "execute_result",
          "data": {
            "text/plain": [
              "date                     0\n",
              "quarter                  0\n",
              "department               0\n",
              "day                      0\n",
              "team                     0\n",
              "targeted_productivity    0\n",
              "smv                      0\n",
              "wip                      0\n",
              "over_time                0\n",
              "incentive                0\n",
              "idle_time                0\n",
              "idle_men                 0\n",
              "no_of_style_change       0\n",
              "no_of_workers            0\n",
              "actual_productivity      0\n",
              "dtype: int64"
            ]
          },
          "metadata": {},
          "execution_count": 34
        }
      ]
    },
    {
      "cell_type": "markdown",
      "source": [
        "All missing data cleared"
      ],
      "metadata": {
        "id": "owG_zOrIJ1XE"
      }
    },
    {
      "cell_type": "markdown",
      "source": [
        "Exploring Data "
      ],
      "metadata": {
        "id": "osWK1WS2J73f"
      }
    },
    {
      "cell_type": "code",
      "source": [
        "# grouping by the quarter\n",
        "quarter_count= df.groupby('quarter')['actual_productivity'].count()\n",
        "quarter_count"
      ],
      "metadata": {
        "colab": {
          "base_uri": "https://localhost:8080/"
        },
        "id": "_UiIXs0KJzrT",
        "outputId": "2585d6e4-bd76-4189-9bb6-ed2f18bfc51e"
      },
      "execution_count": null,
      "outputs": [
        {
          "output_type": "execute_result",
          "data": {
            "text/plain": [
              "quarter\n",
              "Quarter1    360\n",
              "Quarter2    335\n",
              "Quarter3    210\n",
              "Quarter4    248\n",
              "Quarter5     44\n",
              "Name: actual_productivity, dtype: int64"
            ]
          },
          "metadata": {},
          "execution_count": 37
        }
      ]
    },
    {
      "cell_type": "code",
      "source": [
        "# plotting a bar graph showing the actual_productivity per quarter\n",
        "quarter_count.plot(kind='bar')\n",
        "plt.title('Actual_productivity per quarter')\n",
        "plt.xlabel('quarter')\n",
        "plt.ylabel('actual_productivity')"
      ],
      "metadata": {
        "colab": {
          "base_uri": "https://localhost:8080/",
          "height": 347
        },
        "id": "SAgulvu3LJ53",
        "outputId": "2b4e5356-5801-4b8c-8a88-25aef4408e42"
      },
      "execution_count": null,
      "outputs": [
        {
          "output_type": "execute_result",
          "data": {
            "text/plain": [
              "Text(0, 0.5, 'actual_productivity')"
            ]
          },
          "metadata": {},
          "execution_count": 38
        },
        {
          "output_type": "display_data",
          "data": {
            "text/plain": [
              "<Figure size 432x288 with 1 Axes>"
            ],
            "image/png": "[encoded data removed]"
          },
          "metadata": {
            "needs_background": "light"
          }
        }
      ]
    },
    {
      "cell_type": "markdown",
      "source": [
        "Quarter 1 had the higest productivity  followed by Quarter 2. Quarter 5 had the least productivity"
      ],
      "metadata": {
        "id": "yazBGMxDNedh"
      }
    },
    {
      "cell_type": "code",
      "source": [
        "# Looking at a histogram of the actual productivity\n",
        "fig, ax = plt.subplots(figsize=(10,6))\n",
        "df['actual_productivity'].hist(bins=60,ax=ax)\n",
        "plt.ticklabel_format(useOffset= False,style='plain')\n",
        "plt.title('Distribution of actual productivity')\n",
        "plt.ylabel('Frequency')\n",
        "plt.xlabel('actual_productivity')"
      ],
      "metadata": {
        "colab": {
          "base_uri": "https://localhost:8080/",
          "height": 422
        },
        "id": "TNh2Tbb-Pr_S",
        "outputId": "734049e5-dd5a-4bfe-dbf3-abf69694fedb"
      },
      "execution_count": 53,
      "outputs": [
        {
          "output_type": "execute_result",
          "data": {
            "text/plain": [
              "Text(0.5, 0, 'actual_productivity')"
            ]
          },
          "metadata": {},
          "execution_count": 53
        },
        {
          "output_type": "display_data",
          "data": {
            "text/plain": [
              "<Figure size 720x432 with 1 Axes>"
            ],
            "image/png": "[encoded data removed]"
          },
          "metadata": {
            "needs_background": "light"
          }
        }
      ]
    },
    {
      "cell_type": "markdown",
      "source": [
        "The highest occuring productivity is 0.8"
      ],
      "metadata": {
        "id": "Y4YnBAlvVdjM"
      }
    },
    {
      "cell_type": "code",
      "source": [
        "# using box plots\n",
        "sweing = df.loc[df['department']=='sweing','actual_productivity'].values\n",
        "finishing = df.loc[df['department']=='finishing','actual_productivity'].values\n",
        "fig, axes = plt.subplots(nrows = 1, ncols = 1, figsize=(8,6))\n",
        "axes.boxplot([sweing,finishing], \n",
        "             notch = True, \n",
        "             labels=['sweing', 'finishing'],\n",
        "             widths = .7,\n",
        "           patch_artist=True,\n",
        "           medianprops = dict(linestyle='-', linewidth=2, color='Yellow'),\n",
        "           boxprops = dict(linestyle='--', linewidth=2, color='Black', facecolor = 'blue', alpha = .4)\n",
        "             );\n",
        "plt.xlabel('department', fontsize = 20);\n",
        "plt.ylabel('actual_productivity', fontsize = 20);\n",
        "plt.xticks(fontsize = 16);\n",
        "plt.yticks(fontsize = 16);            "
      ],
      "metadata": {
        "colab": {
          "base_uri": "https://localhost:8080/",
          "height": 402
        },
        "id": "xsMrkHGXVmxL",
        "outputId": "776773e4-c7ef-41d0-8ade-ec05f8e36c6f"
      },
      "execution_count": 60,
      "outputs": [
        {
          "output_type": "display_data",
          "data": {
            "text/plain": [
              "<Figure size 576x432 with 1 Axes>"
            ],
            "image/png": "[encoded data removed]"
          },
          "metadata": {
            "needs_background": "light"
          }
        }
      ]
    },
    {
      "cell_type": "markdown",
      "source": [
        " \n",
        "\n",
        "1.   The median for the finishing department is higher than that of sweing meaning that the productivi\n",
        "2.   The interquartile range for the finishing department is higher than that of sweing\n",
        "3.   The sweing department has plenty of outliers\n",
        "\n",
        "In conclusion, the finishing department achieves better productivity than the sweing department\n",
        "\n",
        "\n",
        "\n"
      ],
      "metadata": {
        "id": "PPYi4fIEYgZ2"
      }
    },
    {
      "cell_type": "code",
      "source": [
        "# seeing the correlation of data using heatmaps\n",
        "corr= df.corr()\n",
        "plt.figure(figsize=(12, 10)) \n",
        "sns.heatmap(corr, cmap = 'Reds', annot =True);"
      ],
      "metadata": {
        "colab": {
          "base_uri": "https://localhost:8080/",
          "height": 693
        },
        "id": "O5Ktxfm-YfKt",
        "outputId": "69ac70d8-a01c-451a-dbac-62d0914b08cc"
      },
      "execution_count": 64,
      "outputs": [
        {
          "output_type": "display_data",
          "data": {
            "text/plain": [
              "<Figure size 864x720 with 2 Axes>"
            ],
            "image/png": "[encoded data removed]"
          },
          "metadata": {
            "needs_background": "light"
          }
        }
      ]
    },
    {
      "cell_type": "markdown",
      "source": [
        "\n",
        "\n",
        "1.   High correlation between  smv and no_of_workers, overtime and number of workers\n",
        "2.   Low correlation between targeted_productivity and actual_productivity\n",
        "\n",
        "\n",
        "\n"
      ],
      "metadata": {
        "id": "LS2sidr0cJ84"
      }
    },
    {
      "cell_type": "code",
      "source": [],
      "metadata": {
        "id": "PBvgSkn-fRw-"
      },
      "execution_count": null,
      "outputs": []
    }
  ]
}